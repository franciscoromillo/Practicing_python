{
  "nbformat": 4,
  "nbformat_minor": 0,
  "metadata": {
    "colab": {
      "provenance": [],
      "include_colab_link": true
    },
    "kernelspec": {
      "name": "python3",
      "display_name": "Python 3"
    },
    "language_info": {
      "name": "python"
    }
  },
  "cells": [
    {
      "cell_type": "markdown",
      "metadata": {
        "id": "view-in-github",
        "colab_type": "text"
      },
      "source": [
        "<a href=\"https://colab.research.google.com/github/franciscoromillo/Practicing_python/blob/main/Ejercicios_1_2.ipynb\" target=\"_parent\"><img src=\"https://colab.research.google.com/assets/colab-badge.svg\" alt=\"Open In Colab\"/></a>"
      ]
    },
    {
      "cell_type": "markdown",
      "metadata": {
        "id": "gN2-JXtZLTKP"
      },
      "source": [
        "# 2. VARIABLES, OPERADORES, LISTAS Y DICCIONARIOS\n",
        "\n",
        "**EJERCICIOS:**"
      ]
    },
    {
      "cell_type": "markdown",
      "metadata": {
        "id": "DiAUQ4X2LhNB"
      },
      "source": [
        "En primer lugar, introduciremos unos conceptos básicos muy útiles para cualquier ejercicio. \n",
        "* **Comentarios:** Si queremos poner un comentario explicativo que no sea parte del código, solo tenemos que poner el simbolo # delante de nuestro texto"
      ]
    },
    {
      "cell_type": "code",
      "metadata": {
        "id": "li9Ij7qJJ033"
      },
      "source": [
        "#Esto es un ejemplo de comentario"
      ],
      "execution_count": null,
      "outputs": []
    },
    {
      "cell_type": "markdown",
      "metadata": {
        "id": "I7StLapHL28N"
      },
      "source": [
        "* **Ejecutar una celda:** Para ejecutar una celda en los notebooks de Google Colab solo tenemos que hacer la combinación de teclas Ctrl+Enter, para ejecutar una celda y quedarnos en ella, o Shift+Enter para ejecutar una celda y pasar a la siguiente. Shift+Enter es muy útil para ejecutar una celda tras otra.\n",
        "\n",
        "A partir de ahora ejecuta los ejemplos siguientes para ver su funcionamiento."
      ]
    },
    {
      "cell_type": "markdown",
      "metadata": {
        "id": "w5nModAPLiIV"
      },
      "source": [
        "* **Definir una variable:** Una variable es un sitio en el que guardar una información determinada. Recordemos que en Python no hace falta indicar qué gaurdaremos en la variable, ,dependiendo de si lo que guardamos en ella es un número entero, un decimal o una cadena de texto entre otros, la variable será de un tipo u otro. Cada variable tiene que tener un nombre, y asignaremos lo que queramos guardar en ella mediante el simbolo ="
      ]
    },
    {
      "cell_type": "code",
      "metadata": {
        "colab": {
          "base_uri": "https://localhost:8080/"
        },
        "id": "QlEyEMSGMLL5",
        "outputId": "7cf370f6-e5b6-43ce-bda6-c6582ae8ee41"
      },
      "source": [
        "#definimos una variable llamada var1 del tipo int (número entero)\n",
        "var1 = 3\n",
        "\n",
        "#comprobamos de que tipo es\n",
        "type(var1)"
      ],
      "execution_count": null,
      "outputs": [
        {
          "output_type": "execute_result",
          "data": {
            "text/plain": [
              "int"
            ]
          },
          "metadata": {},
          "execution_count": 3
        }
      ]
    },
    {
      "cell_type": "code",
      "metadata": {
        "colab": {
          "base_uri": "https://localhost:8080/"
        },
        "id": "kyL4XP4FMe3m",
        "outputId": "dddeebb4-00dc-4412-e091-5e660f44bdfc"
      },
      "source": [
        "#definimos una variable llamada color del tipo string (cadena de texto)\n",
        "color = 'amarillo'\n",
        "\n",
        "#comprobamos de que tipo es\n",
        "type(color)"
      ],
      "execution_count": null,
      "outputs": [
        {
          "output_type": "execute_result",
          "data": {
            "text/plain": [
              "str"
            ]
          },
          "metadata": {},
          "execution_count": 4
        }
      ]
    },
    {
      "cell_type": "markdown",
      "metadata": {
        "id": "qBUvRZtRMWct"
      },
      "source": [
        "* **Pedir al usuario un dato:** Si queremos que al ejecutar un programa éste nos pida información para ser introducida por el usuario, debemos usar la función input e indicar previamente de que tipo será la variable que introduzca el usuario a no ser que sea un string. Es una buena práctica dejar un espacio al final de la quote que hagas para pedir el dato o escribir \\n para crear una nueva línea."
      ]
    },
    {
      "cell_type": "code",
      "metadata": {
        "id": "jlercE-8L2tk"
      },
      "source": [
        "#Para introducir un entero\n",
        "age = int(input('Cuántos años tienes? '))\n",
        "\n",
        "#Para introducir una string\n",
        "name = input('Cómo te llamas? ')"
      ],
      "execution_count": null,
      "outputs": []
    },
    {
      "cell_type": "markdown",
      "metadata": {
        "id": "pXpDXgQFNMz1"
      },
      "source": [
        "Ahora hemos guardado la información proporcionada por el usuario en las variables indicadas.\n",
        "\n",
        "* **Imprimir información:** Es muy útil siempre que estemos programando imprimir los resultados que vamos obteniendo para ver si lo estamos haciendo bien. Para imprimir el output usamos la función print. Con ella podemos imprimir tanto texto (siempre entre comillas) como variables, intercalando la información con comas. En este caso no hará falta indicar de que tipo son las variables que imprimamos."
      ]
    },
    {
      "cell_type": "code",
      "metadata": {
        "colab": {
          "base_uri": "https://localhost:8080/"
        },
        "id": "wkJNqW0CL0Aj",
        "outputId": "76c29f62-56c6-42ae-8b04-235883869a7f"
      },
      "source": [
        "print('El usuario tiene', age, 'años y se llama', name)"
      ],
      "execution_count": null,
      "outputs": [
        {
          "output_type": "stream",
          "name": "stdout",
          "text": [
            "El usuario tiene 24 años y se llama Anna\n"
          ]
        }
      ]
    },
    {
      "cell_type": "markdown",
      "metadata": {
        "id": "lUrKzw-8N-Kd"
      },
      "source": [
        "Una vez tenemos clara esta información inicial, pasamos a los ejercicios. Deberéis imprimir el output de todos ellos para verificar que lo estáis haciendo correctamente."
      ]
    },
    {
      "cell_type": "markdown",
      "metadata": {
        "id": "BFdbI4bYOKXl"
      },
      "source": [
        "**Ejercicio 1**\n",
        "Definir una variable de cada tipo de los que hemos visto: int, float, string, list, dictionary y luego comprobar el tipo del que son mediante la función type(variable)"
      ]
    },
    {
      "cell_type": "code",
      "metadata": {
        "id": "aZizI7IwNzZS",
        "colab": {
          "base_uri": "https://localhost:8080/"
        },
        "outputId": "a53211c1-3b00-4938-c51a-2962ad99a67e"
      },
      "source": [
        "x=2\n",
        "type(x)"
      ],
      "execution_count": null,
      "outputs": [
        {
          "output_type": "execute_result",
          "data": {
            "text/plain": [
              "int"
            ]
          },
          "metadata": {},
          "execution_count": 1
        }
      ]
    },
    {
      "cell_type": "code",
      "metadata": {
        "colab": {
          "base_uri": "https://localhost:8080/"
        },
        "id": "x_Obd2Z1rHY2",
        "outputId": "7d3806da-0dd1-4568-d61e-d0f3466d8c70"
      },
      "source": [
        "x=3.5\n",
        "type(x)"
      ],
      "execution_count": null,
      "outputs": [
        {
          "output_type": "execute_result",
          "data": {
            "text/plain": [
              "float"
            ]
          },
          "metadata": {},
          "execution_count": 2
        }
      ]
    },
    {
      "cell_type": "markdown",
      "metadata": {
        "id": "AlU_83akOr8M"
      },
      "source": [
        "**Ejercicio 2**\n",
        "Pide al usuario dos números y luego calcula su suma e imprímela"
      ]
    },
    {
      "cell_type": "code",
      "metadata": {
        "id": "RSPL3U8VOrjV",
        "colab": {
          "base_uri": "https://localhost:8080/"
        },
        "outputId": "54373b2b-8fc0-47fd-c488-9465838216fe"
      },
      "source": [
        "a,b = int(input('Dame dos números\\n')), int(input())"
      ],
      "execution_count": null,
      "outputs": [
        {
          "name": "stdout",
          "output_type": "stream",
          "text": [
            "Dame dos números\n",
            "2\n",
            "3\n"
          ]
        }
      ]
    },
    {
      "cell_type": "code",
      "metadata": {
        "colab": {
          "base_uri": "https://localhost:8080/"
        },
        "id": "wx2ZkqCXsH5E",
        "outputId": "730b260a-65a2-4789-e8c1-652f720df712"
      },
      "source": [
        "a+b"
      ],
      "execution_count": null,
      "outputs": [
        {
          "output_type": "execute_result",
          "data": {
            "text/plain": [
              "5"
            ]
          },
          "metadata": {},
          "execution_count": 7
        }
      ]
    },
    {
      "cell_type": "markdown",
      "metadata": {
        "id": "gPaI4IlpO4Yu"
      },
      "source": [
        "**Ejercicio 3**\n",
        "Calcula el área de un triangulo equilátero de base=8cm y altura=3cm. Recuerda que la fórmula para calcular el área de un triangulo equilátero es base por altura entre 2."
      ]
    },
    {
      "cell_type": "code",
      "metadata": {
        "id": "8nJbcIwEOqC2",
        "colab": {
          "base_uri": "https://localhost:8080/"
        },
        "outputId": "638cfe1d-b7ee-4872-fd40-9c12d6536d88"
      },
      "source": [
        "b=8\n",
        "a=3\n",
        "(b*a)/2"
      ],
      "execution_count": null,
      "outputs": [
        {
          "output_type": "execute_result",
          "data": {
            "text/plain": [
              "12.0"
            ]
          },
          "metadata": {},
          "execution_count": 8
        }
      ]
    },
    {
      "cell_type": "markdown",
      "metadata": {
        "id": "6JeTxpZ7PXTH"
      },
      "source": [
        "**Ejercicio 4** \n",
        "Pide un número entero al usuario y averigua si es par o impar con una sola operación. Recuerda que para hacer la división y ver el residuo de un valor se usa el operador %. "
      ]
    },
    {
      "cell_type": "code",
      "metadata": {
        "id": "32cODccyPsaE",
        "colab": {
          "base_uri": "https://localhost:8080/"
        },
        "outputId": "27d1f6c1-31f9-4386-9ebd-debf71ae0cbe"
      },
      "source": [
        "#ejemplo\n",
        "residuo = 5%3\n",
        "print(residuo) #el valor es igual a 2 porque la división entre 5 y 3 da como cociente 1 y residuo 2"
      ],
      "execution_count": null,
      "outputs": [
        {
          "output_type": "stream",
          "name": "stdout",
          "text": [
            "2\n"
          ]
        }
      ]
    },
    {
      "cell_type": "code",
      "metadata": {
        "id": "GCW-kffWOBdp",
        "colab": {
          "base_uri": "https://localhost:8080/"
        },
        "outputId": "82e9af04-f829-4c51-97b7-225ac77ef9fc"
      },
      "source": [
        "num = int(input('Dame un número '))\n",
        "num%2"
      ],
      "execution_count": null,
      "outputs": [
        {
          "name": "stdout",
          "output_type": "stream",
          "text": [
            "Dame un número 4\n"
          ]
        },
        {
          "output_type": "execute_result",
          "data": {
            "text/plain": [
              "0"
            ]
          },
          "metadata": {},
          "execution_count": 10
        }
      ]
    },
    {
      "cell_type": "markdown",
      "metadata": {
        "id": "uIYvCHivPr68"
      },
      "source": [
        "**Ejercicio 5**\n",
        "Intercambia los valores de dos variables, haz que lo que contenga la variable x esté en la variable y y lo que está en la variable y esté en la x."
      ]
    },
    {
      "cell_type": "code",
      "metadata": {
        "id": "bnpJJI3MPs0G"
      },
      "source": [
        "#Definimos variables\n",
        "x = 'Hello'\n",
        "y = 3"
      ],
      "execution_count": null,
      "outputs": []
    },
    {
      "cell_type": "code",
      "metadata": {
        "id": "tmE7KE4-QD7G",
        "colab": {
          "base_uri": "https://localhost:8080/"
        },
        "outputId": "cbd65fad-9458-4a31-fdcd-122ee1c84497"
      },
      "source": [
        "#ASÍ NO, porque se sobreescribe primero uno y luego otra\n",
        "y=x\n",
        "x=y\n",
        "print(y)\n",
        "print(x)"
      ],
      "execution_count": null,
      "outputs": [
        {
          "output_type": "stream",
          "name": "stdout",
          "text": [
            "Hello\n",
            "Hello\n"
          ]
        }
      ]
    },
    {
      "cell_type": "code",
      "source": [
        "#opción 1\n",
        "x, y = y, x"
      ],
      "metadata": {
        "id": "bXpiZQTy8m7P"
      },
      "execution_count": null,
      "outputs": []
    },
    {
      "cell_type": "code",
      "metadata": {
        "colab": {
          "base_uri": "https://localhost:8080/"
        },
        "id": "ltfxDtX9sq5u",
        "outputId": "2a79dfac-d49a-4b41-ab4b-6256bf5bdd81"
      },
      "source": [
        "#opción 2\n",
        "aux = x\n",
        "x = y\n",
        "y = aux\n",
        "print(x, y)\n"
      ],
      "execution_count": null,
      "outputs": [
        {
          "output_type": "stream",
          "name": "stdout",
          "text": [
            "3 Hello\n"
          ]
        }
      ]
    },
    {
      "cell_type": "markdown",
      "metadata": {
        "id": "wh1Fm5YPPoo4"
      },
      "source": [
        "**Ejercicio 6**\n",
        "Consigue que todas las palabras que se encuentran en distintos strings se encuentren en un solo string que forme una frase"
      ]
    },
    {
      "cell_type": "code",
      "metadata": {
        "id": "uLaNhq4MPoVI"
      },
      "source": [
        "#Definimos las palabras\n",
        "word1 = '¿Qué '\n",
        "word2 = 'prefieres '\n",
        "word3 = 'para '\n",
        "word4 = 'desayunar?'"
      ],
      "execution_count": null,
      "outputs": []
    },
    {
      "cell_type": "code",
      "metadata": {
        "id": "RKdpw94zQx8m",
        "colab": {
          "base_uri": "https://localhost:8080/"
        },
        "outputId": "572a2d9d-8cf7-4529-d025-6fd0a74da3ee"
      },
      "source": [
        "frase = word1 + word2 + word3 + word4\n",
        "print(frase)"
      ],
      "execution_count": null,
      "outputs": [
        {
          "output_type": "stream",
          "name": "stdout",
          "text": [
            "¿Qué prefieres para desayunar?\n"
          ]
        }
      ]
    },
    {
      "cell_type": "markdown",
      "metadata": {
        "id": "1a3EPksVQyPl"
      },
      "source": [
        "**Ejercicio 7**\n",
        "Pon en un comentario el resultado que crees que saldrá de cada comparador y luego ejecuta y comprueba"
      ]
    },
    {
      "cell_type": "code",
      "metadata": {
        "id": "0WAEAVM0Q4SO",
        "colab": {
          "base_uri": "https://localhost:8080/"
        },
        "outputId": "f1d629f5-5fee-46c9-da97-ca356562067f"
      },
      "source": [
        "print(9>=2 or 132<128)\n",
        "print(3 in [1,4,5,32] and 1==1)\n",
        "print(9+3*2+1 == 25)\n",
        "print(24%2 == 0)\n",
        "print(15//2 == 7.5)\n",
        "print(2**3 != 8)"
      ],
      "execution_count": null,
      "outputs": [
        {
          "output_type": "stream",
          "name": "stdout",
          "text": [
            "True\n",
            "False\n",
            "False\n",
            "True\n",
            "False\n",
            "False\n"
          ]
        }
      ]
    },
    {
      "cell_type": "markdown",
      "metadata": {
        "id": "0bD4AyD6SG5-"
      },
      "source": [
        "**Ejercicio 8** Para encontrar el máximo de una lista podemos usar la función max(), pero en este caso lo encontraremos de una forma distinta y comprobaremos que lo hayamos hecho bien con la función max(). Encuentra el máximo entre las listas list1 y list2: Dadas dos listas list1 y list2 concatenalas, luego ordena la lista resultante mediante la función .sort() y quédate con el último elemento que será el máximo."
      ]
    },
    {
      "cell_type": "code",
      "metadata": {
        "id": "76R5lESXRMOo"
      },
      "source": [
        "list1 = [6, 13, 8, 21]\n",
        "list2 = [2, -50, 25]"
      ],
      "execution_count": null,
      "outputs": []
    },
    {
      "cell_type": "code",
      "metadata": {
        "id": "lEsfikpbTitv",
        "colab": {
          "base_uri": "https://localhost:8080/"
        },
        "outputId": "9978ef1a-5260-48c9-be21-a335132b9db7"
      },
      "source": [
        "list3 = list1 + list2\n",
        "list3.sort()\n",
        "print(list3)\n",
        "list3[-1]"
      ],
      "execution_count": null,
      "outputs": [
        {
          "output_type": "stream",
          "name": "stdout",
          "text": [
            "[-50, 2, 6, 8, 13, 21, 25]\n"
          ]
        },
        {
          "output_type": "execute_result",
          "data": {
            "text/plain": [
              "25"
            ]
          },
          "metadata": {},
          "execution_count": 39
        }
      ]
    },
    {
      "cell_type": "markdown",
      "metadata": {
        "id": "KecnckzsTr-X"
      },
      "source": [
        "**Ejercicio 9** Añade la palabra 'Fin' al final de la lista obtenida en el apartado anterior mediante la función .append(). Y añade en la posición 2 de la misma lista la string 'Posición 2' mediante la función .insert()"
      ]
    },
    {
      "cell_type": "code",
      "metadata": {
        "id": "QpzT70nRT8F1",
        "colab": {
          "base_uri": "https://localhost:8080/"
        },
        "outputId": "4e3160f6-5cba-496b-b144-053913ebb808"
      },
      "source": [
        "list3.append('Fin')\n",
        "list3"
      ],
      "execution_count": null,
      "outputs": [
        {
          "output_type": "execute_result",
          "data": {
            "text/plain": [
              "[-50, 2, 6, 8, 13, 21, 25, 'Fin']"
            ]
          },
          "metadata": {},
          "execution_count": 40
        }
      ]
    },
    {
      "cell_type": "code",
      "metadata": {
        "colab": {
          "base_uri": "https://localhost:8080/"
        },
        "id": "ehrrU6liwapQ",
        "outputId": "b26f2de5-b064-43fa-b119-069f85f067ca"
      },
      "source": [
        "list3.insert(2, 'Posición 2')\n",
        "list3"
      ],
      "execution_count": null,
      "outputs": [
        {
          "output_type": "execute_result",
          "data": {
            "text/plain": [
              "[-50, 2, 'Posición 2', 'Posición 2', 6, 8, 13, 21, 25, 'Fin']"
            ]
          },
          "metadata": {},
          "execution_count": 43
        }
      ]
    },
    {
      "cell_type": "markdown",
      "metadata": {
        "id": "kCg7cfRvUP3e"
      },
      "source": [
        "**Ejercicio 10** Accede al primer elemento de la lista obtenida en el apartado anterior"
      ]
    },
    {
      "cell_type": "code",
      "metadata": {
        "id": "1uKeIIKjUZzB",
        "colab": {
          "base_uri": "https://localhost:8080/"
        },
        "outputId": "55c863d0-79ce-497f-f544-866a810838dc"
      },
      "source": [
        "list3[0]"
      ],
      "execution_count": null,
      "outputs": [
        {
          "output_type": "execute_result",
          "data": {
            "text/plain": [
              "-50"
            ]
          },
          "metadata": {},
          "execution_count": 44
        }
      ]
    },
    {
      "cell_type": "markdown",
      "metadata": {
        "id": "02sobppfUc1t"
      },
      "source": [
        "**Ejercicio 11** Guarda en una lista llamada first3 los tres primeros elementos de la lista del apartado anterior y en otra lista llamada last3 los 3 últimos elementos. \n",
        "\n",
        "Recuerda que para seleccionar un trozo de una lista lo podemos indicar de la siguiente manera: Si quiero obtener de la posición 2 a la 5 de mylist los seleccionaré haciendo mylist[2:5]. Si queremos indicar el primer o el último elemento no hace falta poner nada en ese lugar, con mylist[:] obtendríamos todos los elementos de la lista."
      ]
    },
    {
      "cell_type": "code",
      "metadata": {
        "id": "EY4QyKySUcYl",
        "colab": {
          "base_uri": "https://localhost:8080/"
        },
        "outputId": "a42970ca-26a6-4e42-dd63-7897e2983cfd"
      },
      "source": [
        "len(list3)"
      ],
      "execution_count": null,
      "outputs": [
        {
          "output_type": "execute_result",
          "data": {
            "text/plain": [
              "10"
            ]
          },
          "metadata": {},
          "execution_count": 45
        }
      ]
    },
    {
      "cell_type": "markdown",
      "metadata": {
        "id": "CHtXdRBLVFF1"
      },
      "source": [
        "**Ejercicio 12** \n",
        "Para ordenar una lista, tenemos la función lista.sort() y la función sorted(lista). Con la función .sort() ordenamos la lista a la que aplicamos la función de manera permanente. Con la función sorted() hacemos una copia ordenada de la lista. Por defecto, estas funciones ordenan de menor a mayor en caso de ser números y en orden alfabético en caso de tener strings. Pero podemos colocar la expresion reverse=True dentro del parentesis de las funciones de orden, con la que el orden será el inverso.\n",
        "\n",
        "Ordena la lista my_list de menor a mayor y haz una copia de esta ordenada de mayor a menor usando las funciones acabadas de explicar."
      ]
    },
    {
      "cell_type": "code",
      "metadata": {
        "id": "Kgyi3vM2XffI"
      },
      "source": [
        "my_list = [-88, 21, 5, -2, 0, 4, 12]"
      ],
      "execution_count": null,
      "outputs": []
    },
    {
      "cell_type": "code",
      "metadata": {
        "id": "apQ5NP5vYTob",
        "colab": {
          "base_uri": "https://localhost:8080/"
        },
        "outputId": "0ce67226-4e5c-481e-f90a-02551bc263b3"
      },
      "source": [
        "my_list.sort()\n",
        "my_list"
      ],
      "execution_count": null,
      "outputs": [
        {
          "output_type": "execute_result",
          "data": {
            "text/plain": [
              "[-88, -2, 0, 4, 5, 12, 21]"
            ]
          },
          "metadata": {},
          "execution_count": 49
        }
      ]
    },
    {
      "cell_type": "code",
      "metadata": {
        "colab": {
          "base_uri": "https://localhost:8080/"
        },
        "id": "aAL0eY8tyC_9",
        "outputId": "512d8963-1825-48e4-aa3a-d15e1f7bb438"
      },
      "source": [
        "my_list2 = sorted(my_list, reverse = True)\n",
        "my_list2"
      ],
      "execution_count": null,
      "outputs": [
        {
          "output_type": "execute_result",
          "data": {
            "text/plain": [
              "[21, 12, 5, 4, 0, -2, -88]"
            ]
          },
          "metadata": {},
          "execution_count": 51
        }
      ]
    },
    {
      "cell_type": "markdown",
      "metadata": {
        "id": "f88w_PHyYVni"
      },
      "source": [
        "**Ejercicio 13**\n",
        "Dado el siguiente diccionario, responde a las siguientes preguntas:"
      ]
    },
    {
      "cell_type": "code",
      "metadata": {
        "id": "M-cFrpkyY8D0"
      },
      "source": [
        "#Definimos el diccionario\n",
        "\n",
        "dict = {'name' : 'Britney Spears', 'born' : 1981, 'profession' : 'singer'}"
      ],
      "execution_count": null,
      "outputs": []
    },
    {
      "cell_type": "markdown",
      "metadata": {
        "id": "9BEo4MJJZL7m"
      },
      "source": [
        "* En que año nació Britney Spears?"
      ]
    },
    {
      "cell_type": "code",
      "metadata": {
        "id": "7aZ_10jBZbUG",
        "colab": {
          "base_uri": "https://localhost:8080/"
        },
        "outputId": "3bf14fc5-6c56-4092-aab1-480920289a6e"
      },
      "source": [
        "dict['born']"
      ],
      "execution_count": null,
      "outputs": [
        {
          "output_type": "execute_result",
          "data": {
            "text/plain": [
              "1981"
            ]
          },
          "metadata": {},
          "execution_count": 54
        }
      ]
    },
    {
      "cell_type": "markdown",
      "metadata": {
        "id": "JJZ1wMAQZUFL"
      },
      "source": [
        "* Añade al diccionario el país en el que nació Britney Spears"
      ]
    },
    {
      "cell_type": "code",
      "metadata": {
        "id": "m0sAEx68ZT1m",
        "colab": {
          "base_uri": "https://localhost:8080/"
        },
        "outputId": "5dca6b55-84eb-4868-9584-c323bf8aa53f"
      },
      "source": [
        "dict['country'] = 'EEUU'\n",
        "dict"
      ],
      "execution_count": null,
      "outputs": [
        {
          "output_type": "execute_result",
          "data": {
            "text/plain": [
              "{'born': 1981,\n",
              " 'country': 'EEUU',\n",
              " 'name': 'Britney Spears',\n",
              " 'profession': 'singer'}"
            ]
          },
          "metadata": {},
          "execution_count": 56
        }
      ]
    },
    {
      "cell_type": "markdown",
      "metadata": {
        "id": "JZ_AMcbeZd_P"
      },
      "source": [
        "* Cambia la profesión de 'singer' a 'dancer'"
      ]
    },
    {
      "cell_type": "code",
      "metadata": {
        "id": "jlVaLYqMZifJ"
      },
      "source": [
        "dict['profession'] = 'dancer'"
      ],
      "execution_count": null,
      "outputs": []
    },
    {
      "cell_type": "markdown",
      "metadata": {
        "id": "m61h7NkbZjFc"
      },
      "source": [
        "**Ejercicio 14** \n",
        "Crea un diccionario con las notas que ha sacado Pepito en Matemáticas, Lengua, Química y Historia (inventadas) y devuelve su mejor nota."
      ]
    },
    {
      "cell_type": "code",
      "metadata": {
        "id": "hMTeoL3naLA6"
      },
      "source": [
        "notas = {'Matemáticas' : 9,\n",
        "         'Lengua' : 8}"
      ],
      "execution_count": null,
      "outputs": []
    },
    {
      "cell_type": "code",
      "source": [
        "max(notas.values())"
      ],
      "metadata": {
        "colab": {
          "base_uri": "https://localhost:8080/"
        },
        "id": "Nnt_geE9MWYU",
        "outputId": "8ed48ae3-00ab-4301-c8c4-769b8f245c7a"
      },
      "execution_count": null,
      "outputs": [
        {
          "output_type": "execute_result",
          "data": {
            "text/plain": [
              "9"
            ]
          },
          "metadata": {},
          "execution_count": 5
        }
      ]
    },
    {
      "cell_type": "code",
      "source": [
        "max(notas, key=notas.get)"
      ],
      "metadata": {
        "colab": {
          "base_uri": "https://localhost:8080/",
          "height": 36
        },
        "id": "q645VrtBNIt6",
        "outputId": "428d203c-c4f6-4149-9ed5-c821b63e3159"
      },
      "execution_count": null,
      "outputs": [
        {
          "output_type": "execute_result",
          "data": {
            "text/plain": [
              "'Matemáticas'"
            ],
            "application/vnd.google.colaboratory.intrinsic+json": {
              "type": "string"
            }
          },
          "metadata": {},
          "execution_count": 6
        }
      ]
    },
    {
      "cell_type": "markdown",
      "metadata": {
        "id": "N4DuVBWvaMlm"
      },
      "source": [
        "Usando las funciones sum(list) y len(list), calcula la media de las notas de Pepito."
      ]
    },
    {
      "cell_type": "code",
      "metadata": {
        "id": "_-xhlBQYaT6B",
        "colab": {
          "base_uri": "https://localhost:8080/"
        },
        "outputId": "6af6193b-06a6-4477-8438-b602f0393544"
      },
      "source": [
        "sum(notas.values())/len(notas.values())"
      ],
      "execution_count": null,
      "outputs": [
        {
          "output_type": "execute_result",
          "data": {
            "text/plain": [
              "8.5"
            ]
          },
          "metadata": {},
          "execution_count": 8
        }
      ]
    }
  ]
}