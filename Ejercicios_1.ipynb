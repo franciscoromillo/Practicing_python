{
  "nbformat": 4,
  "nbformat_minor": 0,
  "metadata": {
    "colab": {
      "provenance": [],
      "include_colab_link": true
    },
    "kernelspec": {
      "name": "python3",
      "display_name": "Python 3"
    },
    "language_info": {
      "name": "python"
    }
  },
  "cells": [
    {
      "cell_type": "markdown",
      "metadata": {
        "id": "view-in-github",
        "colab_type": "text"
      },
      "source": [
        "<a href=\"https://colab.research.google.com/github/franciscoromillo/Practicing_python/blob/main/Ejercicios_1.ipynb\" target=\"_parent\"><img src=\"https://colab.research.google.com/assets/colab-badge.svg\" alt=\"Open In Colab\"/></a>"
      ]
    },
    {
      "cell_type": "markdown",
      "source": [
        "Algunos ejercicios muy sencillos que se realizaron para coger soltura en Python."
      ],
      "metadata": {
        "id": "hwe-VwCSkwWD"
      }
    },
    {
      "cell_type": "markdown",
      "metadata": {
        "id": "maVLeb9_qC42"
      },
      "source": [
        "1. Escribir un programa que muestre por pantalla la cadena ¡Hola Mundo!."
      ]
    },
    {
      "cell_type": "code",
      "source": [
        "print('¡Hola Mundo!')"
      ],
      "metadata": {
        "id": "iDO1eqapxHd5",
        "colab": {
          "base_uri": "https://localhost:8080/"
        },
        "outputId": "7538fab5-76b6-4890-a01b-a8085974128b"
      },
      "execution_count": null,
      "outputs": [
        {
          "output_type": "stream",
          "name": "stdout",
          "text": [
            "¡Hola Mundo!\n"
          ]
        }
      ]
    },
    {
      "cell_type": "markdown",
      "metadata": {
        "id": "_iyU4GTkqHiF"
      },
      "source": [
        "2. Escribir un programa que almacene la cadena ¡Hola Mundo! en una variable y luego muestre por pantalla el contenido de la variable."
      ]
    },
    {
      "cell_type": "code",
      "source": [
        "var1 = '¡Hola Mundo!'\n",
        "print(var1)"
      ],
      "metadata": {
        "id": "s0iYxRWuxGfR",
        "colab": {
          "base_uri": "https://localhost:8080/"
        },
        "outputId": "72cbd411-5885-4a14-f19d-87cfe816105d"
      },
      "execution_count": null,
      "outputs": [
        {
          "output_type": "stream",
          "name": "stdout",
          "text": [
            "¡Hola Mundo!\n"
          ]
        }
      ]
    },
    {
      "cell_type": "markdown",
      "metadata": {
        "id": "8jBcMYm8qK1O"
      },
      "source": [
        "3. Escribir un programa que pregunte el nombre del usuario en la consola y después de que el usuario lo introduzca muestre por pantalla la cadena ¡Hola 'nombre'!, donde 'nombre' es el nombre que el usuario haya introducido."
      ]
    },
    {
      "cell_type": "code",
      "source": [
        "nombre = input('¿Cómo te llamas?')"
      ],
      "metadata": {
        "id": "Gc0tyL6wxGM5",
        "colab": {
          "base_uri": "https://localhost:8080/"
        },
        "outputId": "fd7c6ae1-3b79-4654-9afa-4428557544c4"
      },
      "execution_count": null,
      "outputs": [
        {
          "name": "stdout",
          "output_type": "stream",
          "text": [
            "¿Cómo te llamas?Anna\n"
          ]
        }
      ]
    },
    {
      "cell_type": "code",
      "source": [
        "print('¡Hola '+nombre+'!')"
      ],
      "metadata": {
        "colab": {
          "base_uri": "https://localhost:8080/"
        },
        "id": "XK491NkvswsX",
        "outputId": "ea5b3911-5b13-4f52-8e62-38fbd9eb1777"
      },
      "execution_count": null,
      "outputs": [
        {
          "output_type": "stream",
          "name": "stdout",
          "text": [
            "¡Hola Anna!\n"
          ]
        }
      ]
    },
    {
      "cell_type": "code",
      "source": [
        "print('Hola', nombre)"
      ],
      "metadata": {
        "colab": {
          "base_uri": "https://localhost:8080/"
        },
        "id": "rfiDqTQQtFpn",
        "outputId": "a4538e2f-889e-414f-bba3-139fc8e9a699"
      },
      "execution_count": null,
      "outputs": [
        {
          "output_type": "stream",
          "name": "stdout",
          "text": [
            "Hola Anna\n"
          ]
        }
      ]
    },
    {
      "cell_type": "code",
      "source": [
        "num = int(input('Dame un número\\n'))"
      ],
      "metadata": {
        "colab": {
          "base_uri": "https://localhost:8080/"
        },
        "id": "7FhT5cHTtRUb",
        "outputId": "e4942422-4913-4939-eb87-9c3594701fa7"
      },
      "execution_count": null,
      "outputs": [
        {
          "name": "stdout",
          "output_type": "stream",
          "text": [
            "Dame un número\n",
            "4\n"
          ]
        }
      ]
    },
    {
      "cell_type": "code",
      "source": [
        "suma = num+5\n",
        "print(suma)"
      ],
      "metadata": {
        "colab": {
          "base_uri": "https://localhost:8080/"
        },
        "id": "FvJw-hkvtcmw",
        "outputId": "42f982f6-5d82-4497-b4fa-cb2b9e83e65c"
      },
      "execution_count": null,
      "outputs": [
        {
          "output_type": "stream",
          "name": "stdout",
          "text": [
            "9\n"
          ]
        }
      ]
    },
    {
      "cell_type": "markdown",
      "metadata": {
        "id": "txWk7g-KqO3v"
      },
      "source": [
        "4. Escribir un programa que muestre por pantalla el resultado de la siguiente operación aritmética: la suma de 5 más 2, dividida entre 4 por 3 y todo esto elevado a 2"
      ]
    },
    {
      "cell_type": "code",
      "source": [
        "print(((5+2)/4*3)**2)"
      ],
      "metadata": {
        "id": "YbFPy7cdxFOK",
        "colab": {
          "base_uri": "https://localhost:8080/"
        },
        "outputId": "6486ced7-c7a5-4148-a301-0cf14c64564b"
      },
      "execution_count": null,
      "outputs": [
        {
          "output_type": "stream",
          "name": "stdout",
          "text": [
            "27.5625\n"
          ]
        }
      ]
    },
    {
      "cell_type": "markdown",
      "metadata": {
        "id": "0Wgpv5aiqp8J"
      },
      "source": [
        "5. Escribir un programa que pregunte al usuario por el número de horas que lleva en el parking y el coste por hora. Después debe mostrar por pantalla cuánto deberá pagar."
      ]
    },
    {
      "cell_type": "code",
      "source": [
        "num_horas = float(input('Cuántas horas llevas en el parking?\\n'))\n",
        "coste_hora = float(input('Cuánto cuesta la hora?\\n'))\n",
        "print('Deberás pagar', num_horas*coste_hora, 'eur')"
      ],
      "metadata": {
        "id": "A9S28sSHxEFZ",
        "colab": {
          "base_uri": "https://localhost:8080/"
        },
        "outputId": "dd03252a-b63b-4810-cfe4-40d56463c6c8"
      },
      "execution_count": null,
      "outputs": [
        {
          "output_type": "stream",
          "name": "stdout",
          "text": [
            "Cuántas horas llevas en el parking?\n",
            "3\n",
            "Cuánto cuesta la hora?\n",
            "2\n",
            "Deberás pagar 6.0\n"
          ]
        }
      ]
    },
    {
      "cell_type": "markdown",
      "metadata": {
        "id": "m3XWlME6qxLu"
      },
      "source": [
        "6. Escribir un programa que pida al usuario dos números enteros y muestre por pantalla 'a' entre 'b' da un cociente de 'c' y un residuo 'r'. 'a' y 'b' serán los números introducidos por el usuario, y 'c' y 'r' seran el cociente y el residuo de la división entera."
      ]
    },
    {
      "cell_type": "code",
      "source": [
        "a, b = int(input('Dame dos números enteros')), int(input())"
      ],
      "metadata": {
        "id": "cpQOG9JVhu2b",
        "colab": {
          "base_uri": "https://localhost:8080/"
        },
        "outputId": "7af89803-86d9-4f8a-a2be-2fd4b0409f16"
      },
      "execution_count": null,
      "outputs": [
        {
          "name": "stdout",
          "output_type": "stream",
          "text": [
            "Dame dos números enteros5\n",
            "2\n"
          ]
        }
      ]
    },
    {
      "cell_type": "code",
      "source": [
        "c = a//b\n",
        "r = a%b\n",
        "print(a, 'entre', b, 'da un cociente de', c, 'y un residuo', r)"
      ],
      "metadata": {
        "colab": {
          "base_uri": "https://localhost:8080/"
        },
        "id": "a3qTmsC6vOEy",
        "outputId": "7e72dc90-49cf-44ab-c16d-84ac6133b1c1"
      },
      "execution_count": null,
      "outputs": [
        {
          "output_type": "stream",
          "name": "stdout",
          "text": [
            "5 entre 2 da un cociente de 2 y un residuo 1\n"
          ]
        }
      ]
    },
    {
      "cell_type": "markdown",
      "metadata": {
        "id": "6AleXQtdrSY9"
      },
      "source": [
        "7. Escribir un programa que pregunte al usuario cuánto dinero pretende invertir, el interés anual que le daría la inversión y el número de años que estaría. Muestra por pantalla el capital obtenido por la inversión, tener en cuenta que el capital obtenido será igual al capital inicial multiplicado por el (interes/100)+1, elevado al número de años de la inversión"
      ]
    },
    {
      "cell_type": "code",
      "source": [
        "dinero = float(input('Cuánto dinero quieres invertir? '))\n",
        "interes = float(input('Cuánto sería el interés? '))\n",
        "anios = int(input('Cuántos años estaría? '))"
      ],
      "metadata": {
        "id": "3R6Hl1nihvNy",
        "colab": {
          "base_uri": "https://localhost:8080/"
        },
        "outputId": "5b4eecba-c8f9-4ea1-b681-d36f1553dd83"
      },
      "execution_count": null,
      "outputs": [
        {
          "name": "stdout",
          "output_type": "stream",
          "text": [
            "Cuánto dinero quieres invertir? 2500\n",
            "Cuánto sería el interés? 3\n",
            "Cuántos años estaría? 4\n"
          ]
        }
      ]
    },
    {
      "cell_type": "code",
      "source": [
        "print('El capital que obtendría sería de', (dinero*((interes/100)+1))**anios)"
      ],
      "metadata": {
        "colab": {
          "base_uri": "https://localhost:8080/"
        },
        "id": "866VUSE2wOrw",
        "outputId": "0e144a4a-9496-4b10-efa7-1c956bc13993"
      },
      "execution_count": null,
      "outputs": [
        {
          "output_type": "stream",
          "name": "stdout",
          "text": [
            "El capital que obtendría sería de 43965187890625.0\n"
          ]
        }
      ]
    },
    {
      "cell_type": "markdown",
      "metadata": {
        "id": "YaJJKkfDrn-O"
      },
      "source": [
        "8. Realiza un programa que pida dos números al usuario y determine si las siguientes expresiones son True o False:"
      ]
    },
    {
      "cell_type": "code",
      "source": [
        "a, b, = int(input('Dame dos números enteros')), int(input())"
      ],
      "metadata": {
        "id": "ui0h_W8jhvpr",
        "colab": {
          "base_uri": "https://localhost:8080/"
        },
        "outputId": "6bae56f7-8098-4138-bf73-f91d8a0905d8"
      },
      "execution_count": null,
      "outputs": [
        {
          "name": "stdout",
          "output_type": "stream",
          "text": [
            "Dame dos números enteros4\n",
            "8\n"
          ]
        }
      ]
    },
    {
      "cell_type": "markdown",
      "metadata": {
        "id": "Z8EzQJbwsBPG"
      },
      "source": [
        "* ¿Los dos números son iguales?"
      ]
    },
    {
      "cell_type": "code",
      "source": [
        "a == b"
      ],
      "metadata": {
        "id": "dClJExw5hwBb",
        "colab": {
          "base_uri": "https://localhost:8080/"
        },
        "outputId": "0e4f2753-13b0-4bde-dc8e-9a8617393aa0"
      },
      "execution_count": null,
      "outputs": [
        {
          "output_type": "execute_result",
          "data": {
            "text/plain": [
              "False"
            ]
          },
          "metadata": {},
          "execution_count": 26
        }
      ]
    },
    {
      "cell_type": "markdown",
      "metadata": {
        "id": "7x1b8KCbsImW"
      },
      "source": [
        "* ¿Los dos números son diferentes?"
      ]
    },
    {
      "cell_type": "code",
      "source": [
        "a != b"
      ],
      "metadata": {
        "id": "1loj3Ip6hwZD",
        "colab": {
          "base_uri": "https://localhost:8080/"
        },
        "outputId": "c0e12ffa-c5c7-4eb0-8407-e2fb52c75857"
      },
      "execution_count": null,
      "outputs": [
        {
          "output_type": "execute_result",
          "data": {
            "text/plain": [
              "True"
            ]
          },
          "metadata": {},
          "execution_count": 27
        }
      ]
    },
    {
      "cell_type": "markdown",
      "metadata": {
        "id": "uEZgJM8FsNah"
      },
      "source": [
        "* ¿El primer número es mayor que el segundo?"
      ]
    },
    {
      "cell_type": "code",
      "source": [
        "a > b"
      ],
      "metadata": {
        "id": "n81u9yhJhwxj",
        "colab": {
          "base_uri": "https://localhost:8080/"
        },
        "outputId": "88b8ae68-f94f-49f5-ac82-ee15ea0b49b4"
      },
      "execution_count": null,
      "outputs": [
        {
          "output_type": "execute_result",
          "data": {
            "text/plain": [
              "False"
            ]
          },
          "metadata": {},
          "execution_count": 28
        }
      ]
    },
    {
      "cell_type": "markdown",
      "metadata": {
        "id": "cgxKWnKAsR3u"
      },
      "source": [
        "* ¿El segundo número es mayor o igual que el primero?"
      ]
    },
    {
      "cell_type": "code",
      "source": [
        "b >= a"
      ],
      "metadata": {
        "id": "aFE4bAmLhxN7",
        "colab": {
          "base_uri": "https://localhost:8080/"
        },
        "outputId": "9dd6664b-8fed-44e4-f988-9091398a46b1"
      },
      "execution_count": null,
      "outputs": [
        {
          "output_type": "execute_result",
          "data": {
            "text/plain": [
              "True"
            ]
          },
          "metadata": {},
          "execution_count": 29
        }
      ]
    },
    {
      "cell_type": "markdown",
      "metadata": {
        "id": "OSl2s77ssWnw"
      },
      "source": [
        "9. Mira si una cadena de texto introducida por el usuario tiene una longitud mayor o igual que 3 y si también es menor que 10.\n",
        "\n"
      ]
    },
    {
      "cell_type": "code",
      "source": [
        "var = input('Dime una palabra:\\n')"
      ],
      "metadata": {
        "id": "7UfylH5Swhyo",
        "colab": {
          "base_uri": "https://localhost:8080/"
        },
        "outputId": "3d8bed32-10c3-4c47-ca0e-32d471ce00da"
      },
      "execution_count": null,
      "outputs": [
        {
          "name": "stdout",
          "output_type": "stream",
          "text": [
            "Dime una palabra:\n",
            "Si\n"
          ]
        }
      ]
    },
    {
      "cell_type": "code",
      "source": [
        "len(var)>=3 and len(var)<10"
      ],
      "metadata": {
        "colab": {
          "base_uri": "https://localhost:8080/"
        },
        "id": "4ZthCYFQUHCj",
        "outputId": "d2e639fd-e8d4-468d-dda6-6fbd8a21d643"
      },
      "execution_count": null,
      "outputs": [
        {
          "output_type": "execute_result",
          "data": {
            "text/plain": [
              "False"
            ]
          },
          "metadata": {},
          "execution_count": 4
        }
      ]
    },
    {
      "cell_type": "markdown",
      "metadata": {
        "id": "iCg3IeHmssad"
      },
      "source": [
        "10. Haz un programa que siga los siguientes pasos:\n",
        "* Guarda en una variable numero_magico el valor 12345679 (sin el 8)\n",
        "* Pide al usuario un número entre el 1 y el 9\n",
        "* Multiplica este número por 9\n",
        "* Multiplica el numero_magico por el numero del paso anterior (y actualiza la variable de numero magico)\n",
        "* Muestra el valor final del numero_magico por pantalla"
      ]
    },
    {
      "cell_type": "code",
      "source": [
        "numero_magico = 12345679\n",
        "num = int(input('Dame un número entero entre el 1 y el 9: '))\n",
        "num *= 9\n",
        "numero_magico = numero_magico*num\n",
        "print('El valor final es', numero_magico)"
      ],
      "metadata": {
        "id": "4CjrHC2UhyAU",
        "colab": {
          "base_uri": "https://localhost:8080/"
        },
        "outputId": "48d0a08c-1ef5-4e4e-9067-ed9827696e21"
      },
      "execution_count": null,
      "outputs": [
        {
          "output_type": "stream",
          "name": "stdout",
          "text": [
            "Dame un número entero entre el 1 y el 9: 6\n",
            "El valor final es 666666666\n"
          ]
        }
      ]
    },
    {
      "cell_type": "markdown",
      "metadata": {
        "id": "pRBQWq8Ws-vW"
      },
      "source": [
        "11. Escribir un programa que almacene **tres** de las asignaturas de un curso (por ejemplo Matemáticas, Física, Química, Historia, Lengua) en una lista y la muestre por pantalla."
      ]
    },
    {
      "cell_type": "code",
      "source": [
        "asig = ['Lengua', 'Historia', 'Matemáticas']\n",
        "print(asig)"
      ],
      "metadata": {
        "id": "G16DvRFawgUJ",
        "colab": {
          "base_uri": "https://localhost:8080/"
        },
        "outputId": "d99accf2-3377-4b41-b086-7c34ec2dcd47"
      },
      "execution_count": null,
      "outputs": [
        {
          "output_type": "stream",
          "name": "stdout",
          "text": [
            "['Lengua', 'Historia', 'Matemáticas']\n"
          ]
        }
      ]
    },
    {
      "cell_type": "markdown",
      "metadata": {
        "id": "ScIN6jIItKDE"
      },
      "source": [
        "12. Haz un programa que pregunte al usuario por sus notas en estas asignaturas y las almacene en una lista"
      ]
    },
    {
      "cell_type": "code",
      "source": [
        "notas = []\n",
        "notas.append(float(input('Dime tu nota en '+asig[0])))\n",
        "notas.append(float(input('Dime tu nota en '+asig[1])))\n",
        "notas.append(float(input('Dime tu nota en '+asig[2])))\n",
        "print(notas)"
      ],
      "metadata": {
        "id": "nCMrfsFOwd-Y",
        "colab": {
          "base_uri": "https://localhost:8080/"
        },
        "outputId": "78bce8bc-d8df-4366-c0b8-39be2bf653f8"
      },
      "execution_count": null,
      "outputs": [
        {
          "output_type": "stream",
          "name": "stdout",
          "text": [
            "Dime tu nota en Lengua7\n",
            "Dime tu nota en Historia6\n",
            "Dime tu nota en Matemáticas8\n",
            "[7.0, 6.0, 8.0]\n"
          ]
        }
      ]
    },
    {
      "cell_type": "markdown",
      "metadata": {
        "id": "TwKk050CtxcO"
      },
      "source": [
        "13. Imprime por pantalla las asignaturas con sus respectivas notas, siguiendo la siguiente estructura '  En 'asignatura' has sacado 'nota'  '"
      ]
    },
    {
      "cell_type": "code",
      "source": [
        "print('En', asig[0], 'has sacado un', notas[0])\n",
        "print('En', asig[1], 'has sacado un', notas[1])\n",
        "print('En', asig[2], 'has sacado un', notas[2])"
      ],
      "metadata": {
        "id": "ZmltXAlfhza8",
        "colab": {
          "base_uri": "https://localhost:8080/"
        },
        "outputId": "87832a66-7bf6-4e9f-e680-6583dbdc57a8"
      },
      "execution_count": null,
      "outputs": [
        {
          "output_type": "stream",
          "name": "stdout",
          "text": [
            "En Lengua has sacado un 7.0\n",
            "En Historia has sacado un 6.0\n",
            "En Matemáticas has sacado un 8.0\n"
          ]
        }
      ]
    },
    {
      "cell_type": "markdown",
      "metadata": {
        "id": "CcSIxkxitv7u"
      },
      "source": [
        "14. Ordena las notas sacadas de mayor a menor"
      ]
    },
    {
      "cell_type": "code",
      "source": [
        "notas.sort(reverse=True)\n",
        "print(notas)"
      ],
      "metadata": {
        "id": "MxBgHPewwcXR",
        "colab": {
          "base_uri": "https://localhost:8080/"
        },
        "outputId": "142ff2c0-587f-44fb-d8b8-6147824e344d"
      },
      "execution_count": null,
      "outputs": [
        {
          "output_type": "stream",
          "name": "stdout",
          "text": [
            "[8.0, 7.0, 6.0]\n"
          ]
        }
      ]
    },
    {
      "cell_type": "markdown",
      "metadata": {
        "id": "9QC_QMnsuJZe"
      },
      "source": [
        "15. Añade una asignatura más a la lista de asignaturas"
      ]
    },
    {
      "cell_type": "code",
      "source": [
        "asig.append('Ciencias')\n",
        "print(asig)"
      ],
      "metadata": {
        "id": "zZ_-rLkKh0oU",
        "colab": {
          "base_uri": "https://localhost:8080/"
        },
        "outputId": "2d661a8f-d319-44ad-d32c-b5bcf0206f5a"
      },
      "execution_count": null,
      "outputs": [
        {
          "output_type": "stream",
          "name": "stdout",
          "text": [
            "['Lengua', 'Historia', 'Matemáticas', 'Ciencias', 'Ciencias']\n"
          ]
        }
      ]
    },
    {
      "cell_type": "markdown",
      "metadata": {
        "id": "Dqi4-_P6ug3P"
      },
      "source": [
        "16. Elimina de la lista de asignaturas la que menos te gustara"
      ]
    },
    {
      "cell_type": "code",
      "source": [
        "asig.remove('Ciencias')\n",
        "print(asig)"
      ],
      "metadata": {
        "id": "eZ82Cm2xwbOI",
        "colab": {
          "base_uri": "https://localhost:8080/"
        },
        "outputId": "f8fef470-271a-4f3d-8c53-f9f304d411fe"
      },
      "execution_count": null,
      "outputs": [
        {
          "output_type": "stream",
          "name": "stdout",
          "text": [
            "['Lengua', 'Historia', 'Matemáticas', 'Ciencias']\n"
          ]
        }
      ]
    },
    {
      "cell_type": "code",
      "source": [
        "asig.pop(0)\n",
        "print(asig)"
      ],
      "metadata": {
        "colab": {
          "base_uri": "https://localhost:8080/"
        },
        "id": "IrWCubSxZ87G",
        "outputId": "2519b4db-f58e-4df5-e2eb-06e901476292"
      },
      "execution_count": null,
      "outputs": [
        {
          "output_type": "stream",
          "name": "stdout",
          "text": [
            "['Historia', 'Matemáticas', 'Ciencias']\n"
          ]
        }
      ]
    },
    {
      "cell_type": "markdown",
      "metadata": {
        "id": "_P9ntCneub-6"
      },
      "source": [
        "17. Escribir un programa que guarde en una variable el diccionario {'Euro':'€', 'Dollar':'$', 'Yen':'¥'}, pregunte al usuario por una divisa y muestre su símbolo o un mensaje de aviso si la divisa no está en el diccionario."
      ]
    },
    {
      "cell_type": "code",
      "source": [
        "dict1 = {'Euro':'€', \n",
        "         'Dollar':'$',\n",
        "         'Yen':'¥'}\n",
        "\n",
        "divisa = input('Dime la divisa de la que quieras conocer el símbolo\\n')"
      ],
      "metadata": {
        "id": "mrB1ncy6waJp",
        "colab": {
          "base_uri": "https://localhost:8080/"
        },
        "outputId": "6a2c605d-2b29-404a-ae32-e5dea3937176"
      },
      "execution_count": null,
      "outputs": [
        {
          "name": "stdout",
          "output_type": "stream",
          "text": [
            "Dime la divisa de la que quieras conocer el símbolo\n",
            "Dolar\n"
          ]
        }
      ]
    },
    {
      "cell_type": "markdown",
      "metadata": {
        "id": "nFOgEdVWu_UO"
      },
      "source": [
        "18. Escribir un programa que pregunte al usuario su nombre, edad, ciudad y teléfono y lo guarde en un diccionario. Después debe mostrar por pantalla el mensaje *'nombre' tiene 'edad' años, vive en 'ciudad' y su número de teléfono es 'teléfono'*."
      ]
    },
    {
      "cell_type": "code",
      "source": [
        "usuario = {}\n",
        "usuario['nombre'] = input('Cómo te llamas?')\n",
        "usuario['edad'] = int(input('Cuántos años tienes?'))"
      ],
      "metadata": {
        "id": "x_YZMGYWh1x2",
        "colab": {
          "base_uri": "https://localhost:8080/"
        },
        "outputId": "13157627-f5c7-45a7-8636-357d93ffe9db"
      },
      "execution_count": null,
      "outputs": [
        {
          "name": "stdout",
          "output_type": "stream",
          "text": [
            "Cómo te llamas?Anna\n",
            "Cuántos años tienes?43\n"
          ]
        }
      ]
    },
    {
      "cell_type": "code",
      "source": [
        "print(usuario)"
      ],
      "metadata": {
        "colab": {
          "base_uri": "https://localhost:8080/"
        },
        "id": "kqj9LPS3bgxh",
        "outputId": "4dde0b24-8a42-4528-9f8b-c877c76d10fb"
      },
      "execution_count": null,
      "outputs": [
        {
          "output_type": "stream",
          "name": "stdout",
          "text": [
            "{'nombre': 'Anna', 'edad': '43'}\n"
          ]
        }
      ]
    },
    {
      "cell_type": "code",
      "source": [
        "print(usuario['nombre'], 'tiene', usuario['edad'], 'años')"
      ],
      "metadata": {
        "colab": {
          "base_uri": "https://localhost:8080/"
        },
        "id": "NWi1LWlnbkem",
        "outputId": "454fac3e-fac3-4093-d7ff-9749ba31be84"
      },
      "execution_count": null,
      "outputs": [
        {
          "output_type": "stream",
          "name": "stdout",
          "text": [
            "Anna tiene 43 años\n"
          ]
        }
      ]
    },
    {
      "cell_type": "markdown",
      "metadata": {
        "id": "FYQhviAwvQv3"
      },
      "source": [
        "19. Definir un diccionario con las facturas pendientes de cobro de una empresa. La key será el id de la factura y el value será el coste de esta. "
      ]
    },
    {
      "cell_type": "code",
      "source": [
        "facturas = {'01234' : 76.45,\n",
        "            '01235' : 84.32}"
      ],
      "metadata": {
        "id": "OsjAZ6kWwY7p"
      },
      "execution_count": null,
      "outputs": []
    },
    {
      "cell_type": "markdown",
      "metadata": {
        "id": "XlvcGXQRwKCB"
      },
      "source": [
        "20. Ha llegado una nueva factura! Añádela al diccionario del ejercicio anterior"
      ]
    },
    {
      "cell_type": "code",
      "source": [
        "facturas['01236']  = 91.23"
      ],
      "metadata": {
        "id": "C21Lu08NwYLB"
      },
      "execution_count": null,
      "outputs": []
    },
    {
      "cell_type": "code",
      "source": [
        "print(facturas)"
      ],
      "metadata": {
        "colab": {
          "base_uri": "https://localhost:8080/"
        },
        "id": "7ri01LkAcUIu",
        "outputId": "832754a8-c932-4b5e-b5b5-929cb95f3eef"
      },
      "execution_count": null,
      "outputs": [
        {
          "output_type": "stream",
          "name": "stdout",
          "text": [
            "{'01234': 76.45, '01235': 84.32, '01236': 91.23}\n"
          ]
        }
      ]
    },
    {
      "cell_type": "markdown",
      "metadata": {
        "id": "M8lcHb9BwPaw"
      },
      "source": [
        "21. Has pagado todas las facturas! Vacía el diccionario"
      ]
    },
    {
      "cell_type": "code",
      "source": [
        "facturas.clear()"
      ],
      "metadata": {
        "id": "UysJTm_Qv936"
      },
      "execution_count": null,
      "outputs": []
    },
    {
      "cell_type": "code",
      "source": [
        "print(facturas)"
      ],
      "metadata": {
        "colab": {
          "base_uri": "https://localhost:8080/"
        },
        "id": "rKsA_FyicbU-",
        "outputId": "8464821e-b481-443a-f878-9be3a743cebb"
      },
      "execution_count": null,
      "outputs": [
        {
          "output_type": "stream",
          "name": "stdout",
          "text": [
            "{}\n"
          ]
        }
      ]
    }
  ]
}